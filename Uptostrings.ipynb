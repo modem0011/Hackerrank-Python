{
  "nbformat": 4,
  "nbformat_minor": 0,
  "metadata": {
    "colab": {
      "name": "Uptostrings.ipynb",
      "provenance": [],
      "collapsed_sections": [],
      "authorship_tag": "ABX9TyNAsjcAaII1hJkyHFLgmeM7",
      "include_colab_link": true
    },
    "kernelspec": {
      "name": "python3",
      "display_name": "Python 3"
    }
  },
  "cells": [
    {
      "cell_type": "markdown",
      "metadata": {
        "id": "view-in-github",
        "colab_type": "text"
      },
      "source": [
        "<a href=\"https://colab.research.google.com/github/nmodem2k/Hackerrank-Python/blob/master/Uptostrings.ipynb\" target=\"_parent\"><img src=\"https://colab.research.google.com/assets/colab-badge.svg\" alt=\"Open In Colab\"/></a>"
      ]
    },
    {
      "cell_type": "markdown",
      "metadata": {
        "id": "a6j3F8B6jVKq",
        "colab_type": "text"
      },
      "source": [
        "#Introduction"
      ]
    },
    {
      "cell_type": "markdown",
      "metadata": {
        "id": "crzdCeoWjtgv",
        "colab_type": "text"
      },
      "source": [
        "say \"Hello, World!\" With Python"
      ]
    },
    {
      "cell_type": "code",
      "metadata": {
        "id": "rYaI7JUAjMrM",
        "colab_type": "code",
        "colab": {
          "base_uri": "https://localhost:8080/",
          "height": 34
        },
        "outputId": "564b5b24-5e09-4778-c1e8-55a6bf1e6da1"
      },
      "source": [
        "a=\"Hello, World!\"\n",
        "print(a)"
      ],
      "execution_count": 1,
      "outputs": [
        {
          "output_type": "stream",
          "text": [
            "Hello, World!\n"
          ],
          "name": "stdout"
        }
      ]
    },
    {
      "cell_type": "markdown",
      "metadata": {
        "id": "r0V29D5mks8s",
        "colab_type": "text"
      },
      "source": [
        "Python If-Else"
      ]
    },
    {
      "cell_type": "code",
      "metadata": {
        "id": "3LLkXWX_j2js",
        "colab_type": "code",
        "colab": {
          "base_uri": "https://localhost:8080/",
          "height": 50
        },
        "outputId": "72d354b8-8bea-4104-f885-0511017f2676"
      },
      "source": [
        "x=int(input())\n",
        "if (x%2 !=0):\n",
        "    print('Weird')\n",
        "elif (x<=5):\n",
        "    print('Not Weird')\n",
        "elif (x<=20):\n",
        "    print('Weird')\n",
        "else:\n",
        "    print('Not Weird')"
      ],
      "execution_count": 2,
      "outputs": [
        {
          "output_type": "stream",
          "text": [
            "26\n",
            "Not Weird\n"
          ],
          "name": "stdout"
        }
      ]
    },
    {
      "cell_type": "markdown",
      "metadata": {
        "id": "blG9vEvzlqh4",
        "colab_type": "text"
      },
      "source": [
        "Arithmetic Operators"
      ]
    },
    {
      "cell_type": "code",
      "metadata": {
        "id": "gQuwEQEMkzkU",
        "colab_type": "code",
        "colab": {
          "base_uri": "https://localhost:8080/",
          "height": 101
        },
        "outputId": "20800456-ab70-420b-fdf9-d3d7979c5188"
      },
      "source": [
        "a=int(input())\n",
        "b=int(input())\n",
        "print(a+b)\n",
        "print(a-b)\n",
        "print(a*b)"
      ],
      "execution_count": 3,
      "outputs": [
        {
          "output_type": "stream",
          "text": [
            "10\n",
            "10\n",
            "20\n",
            "0\n",
            "100\n"
          ],
          "name": "stdout"
        }
      ]
    },
    {
      "cell_type": "markdown",
      "metadata": {
        "id": "wHXTJVzHmEjJ",
        "colab_type": "text"
      },
      "source": [
        "Python: Division"
      ]
    },
    {
      "cell_type": "code",
      "metadata": {
        "id": "SYfLTlyOludR",
        "colab_type": "code",
        "colab": {
          "base_uri": "https://localhost:8080/",
          "height": 84
        },
        "outputId": "11bcb264-5c28-4942-ed20-a5adc601130d"
      },
      "source": [
        "a=int(input())\n",
        "b=int(input())\n",
        "print(a//b)\n",
        "print(a/b)"
      ],
      "execution_count": 4,
      "outputs": [
        {
          "output_type": "stream",
          "text": [
            "30\n",
            "9\n",
            "3\n",
            "3.3333333333333335\n"
          ],
          "name": "stdout"
        }
      ]
    },
    {
      "cell_type": "markdown",
      "metadata": {
        "id": "NpsumYiHm0ON",
        "colab_type": "text"
      },
      "source": [
        "Loops"
      ]
    },
    {
      "cell_type": "code",
      "metadata": {
        "id": "0cQtjNKDmHnU",
        "colab_type": "code",
        "colab": {
          "base_uri": "https://localhost:8080/",
          "height": 118
        },
        "outputId": "7838ac72-aa4a-488e-b81c-6d346c152573"
      },
      "source": [
        "x=int(input())\n",
        "for i in range(x):\n",
        "    print(i**2)"
      ],
      "execution_count": 5,
      "outputs": [
        {
          "output_type": "stream",
          "text": [
            "5\n",
            "0\n",
            "1\n",
            "4\n",
            "9\n",
            "16\n"
          ],
          "name": "stdout"
        }
      ]
    },
    {
      "cell_type": "markdown",
      "metadata": {
        "id": "PbFVYnWnottQ",
        "colab_type": "text"
      },
      "source": [
        "Write a function"
      ]
    },
    {
      "cell_type": "code",
      "metadata": {
        "id": "m4m4ValMm47W",
        "colab_type": "code",
        "colab": {
          "base_uri": "https://localhost:8080/",
          "height": 50
        },
        "outputId": "b5d89ad5-66d7-485c-ecda-f75208c7d8d9"
      },
      "source": [
        "def is_leap(year):\n",
        "    leap = False\n",
        "    if (year%400 ==0):\n",
        "        leap=True\n",
        "    elif (year%100 ==0):\n",
        "        leap=False\n",
        "    elif (year%4==0):\n",
        "        leap=True\n",
        "    \n",
        "    # Write your logic here\n",
        "    \n",
        "    return leap\n",
        "\n",
        "year = int(input())\n",
        "print(is_leap(year))"
      ],
      "execution_count": 6,
      "outputs": [
        {
          "output_type": "stream",
          "text": [
            "2020\n",
            "True\n"
          ],
          "name": "stdout"
        }
      ]
    },
    {
      "cell_type": "markdown",
      "metadata": {
        "id": "SwTbx_KnpNad",
        "colab_type": "text"
      },
      "source": [
        "Print Function"
      ]
    },
    {
      "cell_type": "code",
      "metadata": {
        "id": "o39Fx-dPozHl",
        "colab_type": "code",
        "colab": {
          "base_uri": "https://localhost:8080/",
          "height": 50
        },
        "outputId": "d98a1f8e-21db-489d-dda4-c43caf1f7711"
      },
      "source": [
        "x=int(input())\n",
        "for i in range(1,x+1):\n",
        "    print(i,end=\"\")"
      ],
      "execution_count": 7,
      "outputs": [
        {
          "output_type": "stream",
          "text": [
            "10\n",
            "12345678910"
          ],
          "name": "stdout"
        }
      ]
    },
    {
      "cell_type": "markdown",
      "metadata": {
        "id": "_EjsxAb7p4GT",
        "colab_type": "text"
      },
      "source": [
        "##Basic Data Types"
      ]
    },
    {
      "cell_type": "markdown",
      "metadata": {
        "id": "8gpVBZG3rlmJ",
        "colab_type": "text"
      },
      "source": [
        "List Comprehensions"
      ]
    },
    {
      "cell_type": "code",
      "metadata": {
        "id": "flEplRBMp-9y",
        "colab_type": "code",
        "colab": {
          "base_uri": "https://localhost:8080/",
          "height": 121
        },
        "outputId": "271d5170-c05f-4920-bf00-15272b772e86"
      },
      "source": [
        "x=int(input())\n",
        "y=int(input())\n",
        "z=int(input())\n",
        "n=int(input())\n",
        "b=[]\n",
        "for i in range(x+1):\n",
        "    for j in range(y+1):\n",
        "        for k in range(z+1):\n",
        "            if i+j+k !=n:\n",
        "                a=[i,j,k]\n",
        "                b.append(a)\n",
        "print(b)\n"
      ],
      "execution_count": 9,
      "outputs": [
        {
          "output_type": "stream",
          "text": [
            "2\n",
            "2\n",
            "2\n",
            "5\n",
            "[[0, 0, 0], [0, 0, 1], [0, 0, 2], [0, 1, 0], [0, 1, 1], [0, 1, 2], [0, 2, 0], [0, 2, 1], [0, 2, 2], [1, 0, 0], [1, 0, 1], [1, 0, 2], [1, 1, 0], [1, 1, 1], [1, 1, 2], [1, 2, 0], [1, 2, 1], [2, 0, 0], [2, 0, 1], [2, 0, 2], [2, 1, 0], [2, 1, 1], [2, 2, 0], [2, 2, 2]]\n"
          ],
          "name": "stdout"
        }
      ]
    },
    {
      "cell_type": "markdown",
      "metadata": {
        "id": "gPr5O35mwY1W",
        "colab_type": "text"
      },
      "source": [
        "Find the Runner-Up Score!"
      ]
    },
    {
      "cell_type": "code",
      "metadata": {
        "id": "wD6K6g_zrqvh",
        "colab_type": "code",
        "colab": {
          "base_uri": "https://localhost:8080/",
          "height": 67
        },
        "outputId": "e7e0fabd-c675-494f-b0c4-861763b0d85b"
      },
      "source": [
        "n=int(input())\n",
        "a=list(map(int,input().split(' ')))\n",
        "b=set(a)\n",
        "c=list(b)\n",
        "c.sort()\n",
        "print(c[-2])"
      ],
      "execution_count": 26,
      "outputs": [
        {
          "output_type": "stream",
          "text": [
            "10\n",
            "3 5 9 4 1 4 2 6 7 8\n",
            "8\n"
          ],
          "name": "stdout"
        }
      ]
    },
    {
      "cell_type": "markdown",
      "metadata": {
        "id": "uy40XEoK1Yb8",
        "colab_type": "text"
      },
      "source": [
        "Nested Lists"
      ]
    },
    {
      "cell_type": "code",
      "metadata": {
        "id": "uGnikjVRsrqm",
        "colab_type": "code",
        "colab": {
          "base_uri": "https://localhost:8080/",
          "height": 151
        },
        "outputId": "05f71ce7-66e1-4fa8-e41c-dedf3baab39a"
      },
      "source": [
        "n=int(input())\n",
        "a={}\n",
        "for i in range(n):\n",
        "    name=input()\n",
        "    marks=float(input())\n",
        "    a[name]=marks\n",
        "d=set(a.values())\n",
        "p=list(d)\n",
        "\n",
        "p.sort()\n",
        "\n",
        "second_low=p[1]\n",
        "names=[]\n",
        "for i in a:\n",
        "    if a[i]==second_low:\n",
        "        names.append(i)\n",
        "names.sort()\n",
        "for i in names:\n",
        "    print(i)"
      ],
      "execution_count": 29,
      "outputs": [
        {
          "output_type": "stream",
          "text": [
            "3\n",
            "n\n",
            "20\n",
            "p\n",
            "30\n",
            "b\n",
            "100\n",
            "p\n"
          ],
          "name": "stdout"
        }
      ]
    },
    {
      "cell_type": "markdown",
      "metadata": {
        "id": "P_mLoY3l28E5",
        "colab_type": "text"
      },
      "source": [
        "Finding the percentage"
      ]
    },
    {
      "cell_type": "code",
      "metadata": {
        "id": "0lQPJm5EyJnE",
        "colab_type": "code",
        "colab": {}
      },
      "source": [
        "n=int(input())\n",
        "a={}\n",
        "for i in range(n):\n",
        "    x=input().split(' ')\n",
        "    name=x[0]\n",
        "    marks1=float(x[1])\n",
        "    marks2=float(x[2])\n",
        "    marks3=float(x[3])\n",
        "    a[name]=(marks1+marks2+marks3)/3\n",
        "name_of_student=input()\n",
        "print(format(a[name_of_student],'.2f'))"
      ],
      "execution_count": null,
      "outputs": []
    },
    {
      "cell_type": "markdown",
      "metadata": {
        "id": "kEkhQgim6xo3",
        "colab_type": "text"
      },
      "source": [
        "Lists"
      ]
    },
    {
      "cell_type": "code",
      "metadata": {
        "id": "XIvMIVH36BNj",
        "colab_type": "code",
        "colab": {}
      },
      "source": [
        "n=int(input())\n",
        "a=[]\n",
        "for i in range(n):\n",
        "    x=input()\n",
        "    if x=='print':\n",
        "        print(a)\n",
        "    elif x=='pop':\n",
        "        a.pop()\n",
        "    elif x=='sort':\n",
        "        a.sort()\n",
        "    elif x=='reverse':\n",
        "        a.reverse()\n",
        "    else:\n",
        "        y=x.split(' ')\n",
        "        if y[0]=='append':\n",
        "            a.append(int(y[1]))\n",
        "        elif y[0]=='remove':\n",
        "            a.remove(int(y[1]))\n",
        "        elif y[0]=='insert':\n",
        "            a.insert(int(y[1]),int(y[2]))\n"
      ],
      "execution_count": null,
      "outputs": []
    },
    {
      "cell_type": "markdown",
      "metadata": {
        "id": "C2L-pOvv7rPS",
        "colab_type": "text"
      },
      "source": [
        "Tuples"
      ]
    },
    {
      "cell_type": "code",
      "metadata": {
        "id": "6I2-xjBS65ch",
        "colab_type": "code",
        "colab": {}
      },
      "source": [
        "n=int(input())\n",
        "x=list(map(int,input().split(' ')))\n",
        "c=tuple(x)\n",
        "print(hash(c))"
      ],
      "execution_count": 36,
      "outputs": []
    },
    {
      "cell_type": "markdown",
      "metadata": {
        "id": "DNpOpVZq8Yat",
        "colab_type": "text"
      },
      "source": [
        "# Strings"
      ]
    },
    {
      "cell_type": "code",
      "metadata": {
        "id": "UVDNvQ_O7Vev",
        "colab_type": "code",
        "colab": {
          "base_uri": "https://localhost:8080/",
          "height": 35
        },
        "outputId": "a07d59f1-81be-451c-9dc1-9ecaf34f1a48"
      },
      "source": [
        "\"nAVEEN\".ljust(20,'-')"
      ],
      "execution_count": 38,
      "outputs": [
        {
          "output_type": "execute_result",
          "data": {
            "application/vnd.google.colaboratory.intrinsic": {
              "type": "string"
            },
            "text/plain": [
              "'nAVEEN--------------'"
            ]
          },
          "metadata": {
            "tags": []
          },
          "execution_count": 38
        }
      ]
    },
    {
      "cell_type": "code",
      "metadata": {
        "id": "TYCNfu0C7WI_",
        "colab_type": "code",
        "colab": {
          "base_uri": "https://localhost:8080/",
          "height": 35
        },
        "outputId": "9c7b30c6-5494-4f39-da76-8c99099d4d55"
      },
      "source": [
        "\"naveen\".rjust(20,'-')"
      ],
      "execution_count": 39,
      "outputs": [
        {
          "output_type": "execute_result",
          "data": {
            "application/vnd.google.colaboratory.intrinsic": {
              "type": "string"
            },
            "text/plain": [
              "'--------------naveen'"
            ]
          },
          "metadata": {
            "tags": []
          },
          "execution_count": 39
        }
      ]
    },
    {
      "cell_type": "code",
      "metadata": {
        "id": "JYA7OGf9BI_F",
        "colab_type": "code",
        "colab": {
          "base_uri": "https://localhost:8080/",
          "height": 35
        },
        "outputId": "9489dafa-e781-4f56-cdcf-75d8732b16be"
      },
      "source": [
        "'naveen'.center(20,'-')"
      ],
      "execution_count": 41,
      "outputs": [
        {
          "output_type": "execute_result",
          "data": {
            "application/vnd.google.colaboratory.intrinsic": {
              "type": "string"
            },
            "text/plain": [
              "'-------naveen-------'"
            ]
          },
          "metadata": {
            "tags": []
          },
          "execution_count": 41
        }
      ]
    },
    {
      "cell_type": "markdown",
      "metadata": {
        "id": "FOEhJPM7CAG0",
        "colab_type": "text"
      },
      "source": [
        "sWAP cASE"
      ]
    },
    {
      "cell_type": "code",
      "metadata": {
        "id": "OGlpGVC7BMpT",
        "colab_type": "code",
        "colab": {
          "base_uri": "https://localhost:8080/",
          "height": 50
        },
        "outputId": "b5701b70-3223-4303-bee6-6bbecbc16a76"
      },
      "source": [
        "def swap_case(s):\n",
        "    return s.swapcase()\n",
        "\n",
        "if __name__ == '__main__':\n",
        "    s = input()\n",
        "    result = swap_case(s)\n",
        "    print(result)"
      ],
      "execution_count": 44,
      "outputs": [
        {
          "output_type": "stream",
          "text": [
            "MoDeM nAvEeN\n",
            "mOdEm NaVeEn\n"
          ],
          "name": "stdout"
        }
      ]
    },
    {
      "cell_type": "markdown",
      "metadata": {
        "id": "pRbTInoOCyJ9",
        "colab_type": "text"
      },
      "source": [
        "String Split and Join"
      ]
    },
    {
      "cell_type": "code",
      "metadata": {
        "id": "4dEApL82BsyP",
        "colab_type": "code",
        "colab": {
          "base_uri": "https://localhost:8080/",
          "height": 50
        },
        "outputId": "12071e26-e5b2-4f77-e699-b702660cc0a8"
      },
      "source": [
        "def split_and_join(line):\n",
        "    a=line.split(' ')\n",
        "    return '-'.join(a)\n",
        "    # write your code here\n",
        "\n",
        "if __name__ == '__main__':\n",
        "    line = input()\n",
        "    result = split_and_join(line)\n",
        "    print(result)"
      ],
      "execution_count": 45,
      "outputs": [
        {
          "output_type": "stream",
          "text": [
            "naveen is a bad boy\n",
            "naveen-is-a-bad-boy\n"
          ],
          "name": "stdout"
        }
      ]
    },
    {
      "cell_type": "markdown",
      "metadata": {
        "id": "nsXwwkr-DX8c",
        "colab_type": "text"
      },
      "source": [
        "What's Your Name?"
      ]
    },
    {
      "cell_type": "code",
      "metadata": {
        "id": "yLCOBF7zBvfM",
        "colab_type": "code",
        "colab": {
          "base_uri": "https://localhost:8080/",
          "height": 67
        },
        "outputId": "8810d6db-b407-41d2-de48-86c1096db8ec"
      },
      "source": [
        "def print_full_name(a, b):\n",
        "    print(\"Hello \"+a+' '+b+'! You just delved into python.')\n",
        "\n",
        "if __name__ == '__main__':\n",
        "    first_name = input()\n",
        "    last_name = input()\n",
        "    print_full_name(first_name, last_name)"
      ],
      "execution_count": 46,
      "outputs": [
        {
          "output_type": "stream",
          "text": [
            "modem\n",
            "naveen\n",
            "Hello modem naveen! You just delved into python.\n"
          ],
          "name": "stdout"
        }
      ]
    },
    {
      "cell_type": "markdown",
      "metadata": {
        "id": "E-Mfnq0sEa3g",
        "colab_type": "text"
      },
      "source": [
        "Mutations"
      ]
    },
    {
      "cell_type": "code",
      "metadata": {
        "id": "Oa__YH5lEPt4",
        "colab_type": "code",
        "colab": {
          "base_uri": "https://localhost:8080/",
          "height": 67
        },
        "outputId": "51c08810-55b2-4ace-8812-b8cdc9de1405"
      },
      "source": [
        "def mutate_string(string, position, character):\n",
        "    new_str=string[0:position]+character+string[position+1:]\n",
        "    return new_str\n",
        "\n",
        "if __name__ == '__main__':\n",
        "    s = input()\n",
        "    i, c = input().split()\n",
        "    s_new = mutate_string(s, int(i), c)\n",
        "    print(s_new)"
      ],
      "execution_count": 49,
      "outputs": [
        {
          "output_type": "stream",
          "text": [
            "modem naveen\n",
            "4 e\n",
            "modee naveen\n"
          ],
          "name": "stdout"
        }
      ]
    },
    {
      "cell_type": "markdown",
      "metadata": {
        "id": "dK9IfraCXDR1",
        "colab_type": "text"
      },
      "source": [
        "Find a string"
      ]
    },
    {
      "cell_type": "code",
      "metadata": {
        "id": "XSxdWcdMEd6z",
        "colab_type": "code",
        "colab": {
          "base_uri": "https://localhost:8080/",
          "height": 67
        },
        "outputId": "823308c0-4d1f-4286-a07b-5d5ffc1041f1"
      },
      "source": [
        "def count_substring(string, sub_string):\n",
        "    count=0\n",
        "    x=len(sub_string)\n",
        "    for i in range(len(string)-x+1):\n",
        "        c=0\n",
        "        for j in range(x):\n",
        "            if string[i+j]==sub_string[j]:\n",
        "                c+=1\n",
        "        if c==x:\n",
        "            count+=1\n",
        "\n",
        "\n",
        "    return count\n",
        "if __name__ == '__main__':\n",
        "    string = input().strip()\n",
        "    sub_string = input().strip()\n",
        "    \n",
        "    count = count_substring(string, sub_string)\n",
        "    print(count)"
      ],
      "execution_count": 50,
      "outputs": [
        {
          "output_type": "stream",
          "text": [
            "I am a bad boy\n",
            "a\n",
            "3\n"
          ],
          "name": "stdout"
        }
      ]
    },
    {
      "cell_type": "markdown",
      "metadata": {
        "id": "aAhkrblKZcik",
        "colab_type": "text"
      },
      "source": [
        "String Validators"
      ]
    },
    {
      "cell_type": "code",
      "metadata": {
        "id": "vlJR8IEbXJaF",
        "colab_type": "code",
        "colab": {
          "base_uri": "https://localhost:8080/",
          "height": 118
        },
        "outputId": "3080038e-d12a-46a3-83cf-cb3ba0e2db11"
      },
      "source": [
        "if __name__ == '__main__':\n",
        "    s = input()\n",
        "    for i in s:\n",
        "        if i.isalnum():\n",
        "            print('True')\n",
        "            break\n",
        "    else:\n",
        "        print('False')\n",
        "    for i in s:\n",
        "        if i.isalpha():\n",
        "            print('True')\n",
        "            break\n",
        "    else:\n",
        "        print('False')\n",
        "    for i in s:\n",
        "        if i.isdigit():\n",
        "            print('True')\n",
        "            break\n",
        "    else:\n",
        "        print('False')\n",
        "    for i in s:\n",
        "        if i.islower():\n",
        "            print('True')\n",
        "            break\n",
        "    else:\n",
        "        print('False')\n",
        "    for i in s:\n",
        "        if i.isupper():\n",
        "            print('True')\n",
        "            break\n",
        "    else:\n",
        "        print('False')"
      ],
      "execution_count": 51,
      "outputs": [
        {
          "output_type": "stream",
          "text": [
            "2r4\n",
            "True\n",
            "True\n",
            "True\n",
            "True\n",
            "False\n"
          ],
          "name": "stdout"
        }
      ]
    },
    {
      "cell_type": "markdown",
      "metadata": {
        "id": "p2EKpdGCZ0HI",
        "colab_type": "text"
      },
      "source": [
        "Text wrap"
      ]
    },
    {
      "cell_type": "code",
      "metadata": {
        "id": "CqUD_G6OZoQm",
        "colab_type": "code",
        "colab": {}
      },
      "source": [
        "import textwrap"
      ],
      "execution_count": 52,
      "outputs": []
    },
    {
      "cell_type": "code",
      "metadata": {
        "id": "jqLQugzvaFn1",
        "colab_type": "code",
        "colab": {
          "base_uri": "https://localhost:8080/",
          "height": 34
        },
        "outputId": "988db345-85d6-45cc-9bf6-94976e3f962d"
      },
      "source": [
        "textwrap.wrap('naveenmodeisabadboy',2)"
      ],
      "execution_count": 53,
      "outputs": [
        {
          "output_type": "execute_result",
          "data": {
            "text/plain": [
              "['na', 've', 'en', 'mo', 'de', 'is', 'ab', 'ad', 'bo', 'y']"
            ]
          },
          "metadata": {
            "tags": []
          },
          "execution_count": 53
        }
      ]
    },
    {
      "cell_type": "markdown",
      "metadata": {
        "id": "1FXLl-obbBPK",
        "colab_type": "text"
      },
      "source": [
        "Text Wrap"
      ]
    },
    {
      "cell_type": "code",
      "metadata": {
        "id": "e4CzeyXGaKX8",
        "colab_type": "code",
        "colab": {
          "base_uri": "https://localhost:8080/",
          "height": 252
        },
        "outputId": "7ced0ebf-ee2b-45db-b117-e1649f4efd88"
      },
      "source": [
        "import textwrap\n",
        "\n",
        "def wrap(string, max_width):\n",
        "    a=textwrap.wrap(string,max_width)\n",
        "    return \"\\n\".join(a)\n",
        "\n",
        "if __name__ == '__main__':\n",
        "    string, max_width = input(), int(input())\n",
        "    result = wrap(string, max_width)\n",
        "    print(result)"
      ],
      "execution_count": 54,
      "outputs": [
        {
          "output_type": "stream",
          "text": [
            "modemnaveenisabadverybad\n",
            "2\n",
            "mo\n",
            "de\n",
            "mn\n",
            "av\n",
            "ee\n",
            "ni\n",
            "sa\n",
            "ba\n",
            "dv\n",
            "er\n",
            "yb\n",
            "ad\n"
          ],
          "name": "stdout"
        }
      ]
    },
    {
      "cell_type": "markdown",
      "metadata": {
        "id": "Iqs_ruDKeExh",
        "colab_type": "text"
      },
      "source": [
        "Designer Door Mat"
      ]
    },
    {
      "cell_type": "code",
      "metadata": {
        "id": "ZqZlQF8abID4",
        "colab_type": "code",
        "colab": {
          "base_uri": "https://localhost:8080/",
          "height": 151
        },
        "outputId": "a8b5e436-8c01-44bf-831c-fe042b360f43"
      },
      "source": [
        "n, m = map(int,input().split())\n",
        "pattern = [('.|.'*(2*i + 1)).center(m, '-') for i in range(n//2)]\n",
        "print('\\n'.join(pattern + ['WELCOME'.center(m, '-')] + pattern[::-1]))"
      ],
      "execution_count": 64,
      "outputs": [
        {
          "output_type": "stream",
          "text": [
            "7 21\n",
            "---------.|.---------\n",
            "------.|..|..|.------\n",
            "---.|..|..|..|..|.---\n",
            "-------WELCOME-------\n",
            "---.|..|..|..|..|.---\n",
            "------.|..|..|.------\n",
            "---------.|.---------\n"
          ],
          "name": "stdout"
        }
      ]
    },
    {
      "cell_type": "markdown",
      "metadata": {
        "id": "lIM1JB9EmAIR",
        "colab_type": "text"
      },
      "source": [
        "String Formatting"
      ]
    },
    {
      "cell_type": "code",
      "metadata": {
        "id": "qOC71dR_capX",
        "colab_type": "code",
        "colab": {
          "base_uri": "https://localhost:8080/",
          "height": 202
        },
        "outputId": "66bcb935-e10a-4434-f343-ca260e0740ed"
      },
      "source": [
        "def print_formatted(number):\n",
        "    for i in range(1,n+1):\n",
        "        print(i,end=\" \")\n",
        "        print(oct(i)[2:],end=\" \")\n",
        "        print(hex(i)[2:],end=\" \")\n",
        "        print(bin(i)[2:].center(3,' '))\n",
        "    # your code goes here\n",
        "\n",
        "if __name__ == '__main__':\n",
        "    n = int(input())\n",
        "    print_formatted(n)"
      ],
      "execution_count": 68,
      "outputs": [
        {
          "output_type": "stream",
          "text": [
            "10\n",
            "1 1 1  1 \n",
            "2 2 2  10\n",
            "3 3 3  11\n",
            "4 4 4 100\n",
            "5 5 5 101\n",
            "6 6 6 110\n",
            "7 7 7 111\n",
            "8 10 8 1000\n",
            "9 11 9 1001\n",
            "10 12 a 1010\n"
          ],
          "name": "stdout"
        }
      ]
    },
    {
      "cell_type": "markdown",
      "metadata": {
        "id": "LBL00qlExS9z",
        "colab_type": "text"
      },
      "source": [
        "Alphabet Rangoli"
      ]
    },
    {
      "cell_type": "code",
      "metadata": {
        "id": "3uc2B8JEe9CA",
        "colab_type": "code",
        "colab": {
          "base_uri": "https://localhost:8080/",
          "height": 185
        },
        "outputId": "c58f6d69-93bd-4ee3-f4f0-40a5470fe78a"
      },
      "source": [
        "import string\n",
        "alpha = string.ascii_lowercase\n",
        "\n",
        "n = int(input())\n",
        "L = []\n",
        "for i in range(n):\n",
        "    s = \"-\".join(alpha[i:n])\n",
        "    L.append((s[::-1]+s[1:]).center(4*n-3, \"-\"))\n",
        "print('\\n'.join(L[:0:-1]+L))"
      ],
      "execution_count": 81,
      "outputs": [
        {
          "output_type": "stream",
          "text": [
            "5\n",
            "--------e--------\n",
            "------e-d-e------\n",
            "----e-d-c-d-e----\n",
            "--e-d-c-b-c-d-e--\n",
            "e-d-c-b-a-b-c-d-e\n",
            "--e-d-c-b-c-d-e--\n",
            "----e-d-c-d-e----\n",
            "------e-d-e------\n",
            "--------e--------\n"
          ],
          "name": "stdout"
        }
      ]
    },
    {
      "cell_type": "markdown",
      "metadata": {
        "id": "haFmEHfpzov3",
        "colab_type": "text"
      },
      "source": [
        "Capitalize!"
      ]
    },
    {
      "cell_type": "code",
      "metadata": {
        "id": "JI9CfGctm3Ke",
        "colab_type": "code",
        "colab": {
          "base_uri": "https://localhost:8080/",
          "height": 50
        },
        "outputId": "fb43a5ea-8cd9-425c-b667-38a0eec684b8"
      },
      "source": [
        "def solve(s):\n",
        "    x=s.split(' ')\n",
        "    op=\"\"\n",
        "    for i in x:\n",
        "        op+=i.capitalize()\n",
        "        op+=\" \"\n",
        "    return op\n",
        "\n",
        "if __name__ == '__main__':\n",
        "\n",
        "    s = input()\n",
        "\n",
        "    result = solve(s)\n",
        "    print(result)\n"
      ],
      "execution_count": 85,
      "outputs": [
        {
          "output_type": "stream",
          "text": [
            "naveen modem\n",
            "Naveen Modem \n"
          ],
          "name": "stdout"
        }
      ]
    },
    {
      "cell_type": "code",
      "metadata": {
        "id": "elPsohuroGSI",
        "colab_type": "code",
        "colab": {}
      },
      "source": [
        ""
      ],
      "execution_count": 86,
      "outputs": []
    },
    {
      "cell_type": "code",
      "metadata": {
        "id": "W4fJrSktntWC",
        "colab_type": "code",
        "colab": {}
      },
      "source": [
        "a='naveen'\n",
        "k=[]\n",
        "for i in range(len(a)):\n",
        "  for j in range(i+1,len(a)+1):\n",
        "    k.append(a[i:i+j])\n"
      ],
      "execution_count": 89,
      "outputs": []
    },
    {
      "cell_type": "code",
      "metadata": {
        "id": "hN6pgzOnnzhL",
        "colab_type": "code",
        "colab": {
          "base_uri": "https://localhost:8080/",
          "height": 370
        },
        "outputId": "4c510d50-acf6-4a80-c7af-7205f998ede1"
      },
      "source": [
        "\n",
        "k"
      ],
      "execution_count": 90,
      "outputs": [
        {
          "output_type": "execute_result",
          "data": {
            "text/plain": [
              "['n',\n",
              " 'na',\n",
              " 'nav',\n",
              " 'nave',\n",
              " 'navee',\n",
              " 'naveen',\n",
              " 'av',\n",
              " 'ave',\n",
              " 'avee',\n",
              " 'aveen',\n",
              " 'aveen',\n",
              " 'vee',\n",
              " 'veen',\n",
              " 'veen',\n",
              " 'veen',\n",
              " 'een',\n",
              " 'een',\n",
              " 'een',\n",
              " 'en',\n",
              " 'en',\n",
              " 'n']"
            ]
          },
          "metadata": {
            "tags": []
          },
          "execution_count": 90
        }
      ]
    },
    {
      "cell_type": "code",
      "metadata": {
        "id": "moFYzdmZn0l3",
        "colab_type": "code",
        "colab": {
          "base_uri": "https://localhost:8080/",
          "height": 35
        },
        "outputId": "551232ea-9d5b-466a-84f2-e8b0707d3250"
      },
      "source": [
        ""
      ],
      "execution_count": 78,
      "outputs": [
        {
          "output_type": "execute_result",
          "data": {
            "application/vnd.google.colaboratory.intrinsic": {
              "type": "string"
            },
            "text/plain": [
              "'a-b-c-dr-o'"
            ]
          },
          "metadata": {
            "tags": []
          },
          "execution_count": 78
        }
      ]
    },
    {
      "cell_type": "code",
      "metadata": {
        "id": "8xnKceZ6oshL",
        "colab_type": "code",
        "colab": {}
      },
      "source": [
        ""
      ],
      "execution_count": null,
      "outputs": []
    }
  ]
}